{
  "nbformat": 4,
  "nbformat_minor": 0,
  "metadata": {
    "colab": {
      "provenance": [],
      "authorship_tag": "ABX9TyN2yQw/EOa/T9dDJqlLGs3f"
    },
    "kernelspec": {
      "name": "python3",
      "display_name": "Python 3"
    },
    "language_info": {
      "name": "python"
    }
  },
  "cells": [
    {
      "cell_type": "markdown",
      "source": [
        "# Determinig the accurate value of a car trhough Linear Regression\n",
        "In this project I have:\n",
        "\n",
        "\n",
        "*   Fetched and explore a dataset of cars\n",
        "*   Visualized the dataset with graphs\n",
        "*   Used linear regression to make predictions\n",
        "*   Used multiple linear regression to make better predictions\n",
        "*   Tried to iscover the best-value cars\n",
        "\n",
        "\n",
        "\n",
        "\n",
        "\n",
        "\n",
        "\n"
      ],
      "metadata": {
        "id": "EH46_uZupWNo"
      }
    },
    {
      "cell_type": "markdown",
      "source": [
        "Import libraries and data (data taken from cardekho)"
      ],
      "metadata": {
        "id": "JwZbwlTYkPOZ"
      }
    },
    {
      "cell_type": "code",
      "source": [
        "import pandas as pd   \n",
        "import os \n",
        "\n",
        "# Dataset hosted on Google Cloud\n",
        "!wget -q --show-progress \"https://storage.googleapis.com/inspirit-ai-data-bucket-1/Data/AI%20Scholars/Sessions%201%20-%205/Session%202a%20-%20Linear%20Regression/car_dekho.csv\"\n",
        "\n",
        "# Quiet deprecation warnings\n",
        "import warnings\n",
        "warnings.filterwarnings(\"ignore\") "
      ],
      "metadata": {
        "id": "3IZp5f2kkYG1"
      },
      "execution_count": null,
      "outputs": []
    },
    {
      "cell_type": "code",
      "source": [
        "# read our data \n",
        "data_path  = 'car_dekho.csv'\n",
        "car_data = pd.read_csv(data_path)"
      ],
      "metadata": {
        "id": "OLoY93GtkjB7"
      },
      "execution_count": null,
      "outputs": []
    },
    {
      "cell_type": "markdown",
      "source": [
        "Visualizing data"
      ],
      "metadata": {
        "id": "2UzCu42Wkyk7"
      }
    },
    {
      "cell_type": "code",
      "source": [
        "import seaborn as sns\n",
        "import matplotlib.pyplot as plt\n",
        "\n",
        "# Each dot is a single example (row) from the dataframe, with its \n",
        "# x-value as `Age` and its y-value as `Selling_Price`\n",
        "sns.scatterplot(x = 'Age', y = 'Selling_Price', data = car_data)"
      ],
      "metadata": {
        "id": "yG8Uki-Dkzln"
      },
      "execution_count": null,
      "outputs": []
    },
    {
      "cell_type": "markdown",
      "source": [
        "Visualizing categorical data"
      ],
      "metadata": {
        "id": "2CEPWeWyk34j"
      }
    },
    {
      "cell_type": "code",
      "source": [
        "sns.catplot(x = 'Fuel_Type', y = 'Selling_Price', data = car_data, kind = 'swarm', s = 2)"
      ],
      "metadata": {
        "id": "a9MkfO3Qk5x7"
      },
      "execution_count": null,
      "outputs": []
    },
    {
      "cell_type": "markdown",
      "source": [
        "Setting up linear regression"
      ],
      "metadata": {
        "id": "ipgyDzaVlHXw"
      }
    },
    {
      "cell_type": "code",
      "source": [
        "import sklearn_pandas\n",
        "from sklearn.linear_model import LinearRegression\n",
        "import numpy as np    \n",
        "\n",
        "# Initializing X and y variables.\n",
        "X = car_data[['Age']]\n",
        "y = car_data[['Selling_Price']]\n",
        "\n",
        "# Initialzing model\n",
        "linear = LinearRegression()\n",
        "\n",
        "# train the model \n",
        "linear.fit(X, y)"
      ],
      "metadata": {
        "id": "Qn1QeTfolPmH"
      },
      "execution_count": null,
      "outputs": []
    },
    {
      "cell_type": "markdown",
      "source": [
        "Visuzlize trained model"
      ],
      "metadata": {
        "id": "P3ytY1pUlfxP"
      }
    },
    {
      "cell_type": "code",
      "source": [
        "import matplotlib.pyplot as plt\n",
        "\n",
        "y_pred = linear.predict(X)\n",
        "plt.plot(X, y_pred, color='red')\n",
        "\n",
        "plt.scatter(X, y)\n",
        "plt.xlabel('Age') # set the labels of the x and y axes\n",
        "plt.ylabel('Selling_Price (lakhs)')\n",
        "plt.show()"
      ],
      "metadata": {
        "id": "09krjOJPlhYN"
      },
      "execution_count": null,
      "outputs": []
    },
    {
      "cell_type": "markdown",
      "source": [
        "#Trying different inputs"
      ],
      "metadata": {
        "id": "wdPMk4TRltg1"
      }
    },
    {
      "cell_type": "markdown",
      "source": [
        "Converting `Transmission` data into catagorical data"
      ],
      "metadata": {
        "id": "Jnoddxrcl274"
      }
    },
    {
      "cell_type": "code",
      "source": [
        "car_data['TransmissionNumber'] = car_data['Transmission'].replace({'Manual':1, 'Automatic':0})"
      ],
      "metadata": {
        "id": "CTiMfrB3mADg"
      },
      "execution_count": null,
      "outputs": []
    },
    {
      "cell_type": "markdown",
      "source": [
        "Trying different values for x"
      ],
      "metadata": {
        "id": "FnlJvrAKmGti"
      }
    },
    {
      "cell_type": "code",
      "source": [
        "#Initializing our X, y variables\n",
        "\n",
        "X_column = 'Age' \n",
        "X = car_data[[X_column]] \n",
        "y = car_data[['Selling_Price']]\n",
        "\n",
        "#Setting up model\n",
        "linear = LinearRegression()\n",
        "\n",
        "#Training\n",
        "linear.fit(X,y)"
      ],
      "metadata": {
        "id": "Jzeu1td2mIsZ"
      },
      "execution_count": null,
      "outputs": []
    },
    {
      "cell_type": "markdown",
      "source": [
        "Visualize data"
      ],
      "metadata": {
        "id": "iqy7duWfmMkP"
      }
    },
    {
      "cell_type": "code",
      "source": [
        "import matplotlib.pyplot as plt\n",
        "\n",
        "y_pred = linear.predict(X)\n",
        "plt.plot(X, y_pred, color='red')\n",
        "\n",
        "plt.scatter(X, y)\n",
        "plt.xlabel(X_column) # Automated setup of axis labels\n",
        "plt.ylabel('Selling_Price (lakhs)')\n",
        "plt.show()"
      ],
      "metadata": {
        "id": "eoZZnTPVmNh9"
      },
      "execution_count": null,
      "outputs": []
    },
    {
      "cell_type": "markdown",
      "source": [
        "# Multiple Linear Regression"
      ],
      "metadata": {
        "id": "SC4sYyLQmQjP"
      }
    },
    {
      "cell_type": "code",
      "source": [
        "X = car_data[['Age', 'TransmissionNumber', 'Kms_Driven']]\n",
        "\n",
        "# set up our model\n",
        "multiple = LinearRegression(fit_intercept = True, normalize = True)\n",
        "\n",
        "# train the model \n",
        "multiple.fit(X, y)"
      ],
      "metadata": {
        "id": "eAAwzHImmTQb"
      },
      "execution_count": null,
      "outputs": []
    },
    {
      "cell_type": "markdown",
      "source": [
        "Comparing single and multiple linear regression models"
      ],
      "metadata": {
        "id": "_bxC_LH6mclQ"
      }
    },
    {
      "cell_type": "code",
      "source": [
        "print('Our single linear model had an R^2 of: %0.3f'%linear.score(car_data[[X_column]], y))\n",
        "print('Our multiple linear model had an R^2 of: %0.3f'%multiple.score(X, y))"
      ],
      "metadata": {
        "id": "0GqWaP1Amfea"
      },
      "execution_count": null,
      "outputs": []
    },
    {
      "cell_type": "markdown",
      "source": [
        "Accuracy may be low becuase `Age` is not the only factor to be considered while determining value"
      ],
      "metadata": {
        "id": "mP2R7IU4m8Yl"
      }
    },
    {
      "cell_type": "markdown",
      "source": [
        "Trying different inputs to increase accuracy of multiple linear regression model"
      ],
      "metadata": {
        "id": "DlscooaImyjj"
      }
    },
    {
      "cell_type": "code",
      "source": [
        "car_data['SellerNumber'] = car_data['Seller_Type'].replace({'Dealer':1, 'Individual':0})\n",
        "\n",
        "X = car_data[['Age', 'TransmissionNumber', 'Kms_Driven', 'SellerNumber']].values\n",
        "print(X.shape)\n",
        "\n",
        "# set up our model\n",
        "multiple = LinearRegression(fit_intercept = True, normalize = True)\n",
        "\n",
        "# train the model \n",
        "multiple.fit(X, y)\n",
        "\n",
        "print('Our multiple linear model had an R^2 of: %0.3f'%multiple.score(X, y))"
      ],
      "metadata": {
        "id": "yHw69mFwm4Nt"
      },
      "execution_count": null,
      "outputs": []
    },
    {
      "cell_type": "markdown",
      "source": [
        "Comparing real vs predicted prices"
      ],
      "metadata": {
        "id": "GwNY5L-DnN8K"
      }
    },
    {
      "cell_type": "code",
      "source": [
        "plt.plot([-5,15],[-5,15]) #Drawing in the line of equality so we can compare\n",
        "plt.title(\"Predicted vs. Real Prices\")\n",
        "plt.xlabel(\"Real price\")\n",
        "plt.ylabel(\"Predicted price\")\n",
        "prediction = multiple.predict(X)\n",
        "plt.plot(y, prediction, '.')\n",
        "plt.show()"
      ],
      "metadata": {
        "id": "upuQq4a9nPyd"
      },
      "execution_count": null,
      "outputs": []
    },
    {
      "cell_type": "markdown",
      "source": [
        "This graph is weird because linear regreesion isn't the best model for this problem. "
      ],
      "metadata": {
        "id": "IpRqw14dnX5R"
      }
    },
    {
      "cell_type": "markdown",
      "source": [
        "Add predicted prices onto our dataframe"
      ],
      "metadata": {
        "id": "Kkjf2-7ZneW8"
      }
    },
    {
      "cell_type": "code",
      "source": [
        "pd.set_option('display.max_columns', 500)\n",
        "pd.set_option('display.width', 1000)\n",
        "\n",
        "car_data['Prediction'] = prediction\n",
        "print (car_data)"
      ],
      "metadata": {
        "id": "1b5QGBSgniOM"
      },
      "execution_count": null,
      "outputs": []
    },
    {
      "cell_type": "markdown",
      "source": [
        "Adding a new column for `Deal Score`\n",
        "* / Lower scoring car is overpriced while higher scoring car is being sold at a better cost /*"
      ],
      "metadata": {
        "id": "Oks08J0OnqLF"
      }
    },
    {
      "cell_type": "code",
      "source": [
        "car_data['deal_score'] = car_data['Prediction']-car_data['Selling_Price']\n",
        "print (car_data)"
      ],
      "metadata": {
        "id": "H-gxUQN3n-D4"
      },
      "execution_count": null,
      "outputs": []
    },
    {
      "cell_type": "markdown",
      "source": [
        "Identifying 10 most overpriced cars and 10 cars aat best value"
      ],
      "metadata": {
        "id": "1BpsslKWoQ9u"
      }
    },
    {
      "cell_type": "code",
      "source": [
        "sorted_data = car_data.sort_values(\"deal_score\")\n",
        "best_deals = sorted_data.tail(10)\n",
        "most_overpriced = sorted_data.head(10)\n",
        "print (best_deals)\n",
        "print (most_overpriced)"
      ],
      "metadata": {
        "id": "-Qf6DhZ9oVsU"
      },
      "execution_count": null,
      "outputs": []
    },
    {
      "cell_type": "markdown",
      "source": [
        "Visualizing the data"
      ],
      "metadata": {
        "id": "hB2iyfB6om7s"
      }
    },
    {
      "cell_type": "code",
      "source": [
        "plt.plot([-5,15],[-5,15]) #Drawing in the line of equality so we can compare\n",
        "plt.title(\"Predicted vs. Real Prices\")\n",
        "plt.xlabel(\"Real price\")\n",
        "plt.ylabel(\"Predicted price\")\n",
        "plt.plot(car_data.Selling_Price,car_data.Prediction,'b.')\n",
        "plt.plot(best_deals.Selling_Price,best_deals.Prediction,'g.')\n",
        "plt.plot(most_overpriced.Selling_Price,most_overpriced.Prediction,'r.')\n",
        "plt.show()"
      ],
      "metadata": {
        "id": "oKcrAFWboec8"
      },
      "execution_count": null,
      "outputs": []
    },
    {
      "cell_type": "markdown",
      "source": [
        "Successfully built a model to predicted lowest car prices!\n",
        "\n",
        "---\n",
        "\n",
        "\n",
        "(However, lower car prices than the predictions might also be a problem + a neural netwrok would be a better fit for this)"
      ],
      "metadata": {
        "id": "OVBdINZko3-w"
      }
    }
  ]
}